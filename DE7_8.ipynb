{
  "nbformat": 4,
  "nbformat_minor": 0,
  "metadata": {
    "colab": {
      "provenance": []
    },
    "kernelspec": {
      "name": "python3",
      "display_name": "Python 3"
    },
    "language_info": {
      "name": "python"
    }
  },
  "cells": [
    {
      "cell_type": "code",
      "execution_count": 9,
      "metadata": {
        "colab": {
          "base_uri": "https://localhost:8080/"
        },
        "id": "jheul-JAoXoV",
        "outputId": "895b9a3e-3c28-422e-b590-715d9f3d5626"
      },
      "outputs": [
        {
          "output_type": "stream",
          "name": "stdout",
          "text": [
            "Features (X):\n",
            "   sepal length (cm)  sepal width (cm)  petal length (cm)  petal width (cm)\n",
            "0                5.1               3.5                1.4               0.2\n",
            "1                4.9               3.0                1.4               0.2\n",
            "2                4.7               3.2                1.3               0.2\n",
            "3                4.6               3.1                1.5               0.2\n",
            "4                5.0               3.6                1.4               0.2\n",
            "\n",
            "Target (y):\n",
            "0    0\n",
            "1    0\n",
            "2    0\n",
            "3    0\n",
            "4    0\n",
            "Name: target, dtype: int64\n"
          ]
        }
      ],
      "source": [
        "import numpy as np\n",
        "import pandas as pd\n",
        "from sklearn.datasets import load_iris\n",
        "from sklearn.model_selection import train_test_split\n",
        "from sklearn.preprocessing import StandardScaler\n",
        "from sklearn.metrics import accuracy_score, confusion_matrix, classification_report\n",
        "import matplotlib.pyplot as plt\n",
        "import seaborn as sns\n",
        "\n",
        "# Load the IRIS Dataset\n",
        "data = load_iris()\n",
        "X = pd.DataFrame(data['data'], columns=data['feature_names'])\n",
        "y = pd.Series(data['target'], name='target')\n",
        "\n",
        "# Show the first few rows of the dataset\n",
        "print(\"Features (X):\")\n",
        "print(X.head())\n",
        "print(\"\\nTarget (y):\")\n",
        "print(y.head())"
      ]
    },
    {
      "cell_type": "code",
      "source": [
        "# Split the dataset into training and testing sets\n",
        "X_train, X_test, y_train, y_test = train_test_split(X, y, test_size=0.3, random_state=42)\n",
        "\n",
        "print(f\"Training set size: {X_train.shape}\")\n",
        "print(f\"Testing set size: {X_test.shape}\")"
      ],
      "metadata": {
        "colab": {
          "base_uri": "https://localhost:8080/"
        },
        "id": "XrH5W28LtVuI",
        "outputId": "831bb46d-06a7-4637-a015-d1939e2eac18"
      },
      "execution_count": 10,
      "outputs": [
        {
          "output_type": "stream",
          "name": "stdout",
          "text": [
            "Training set size: (105, 4)\n",
            "Testing set size: (45, 4)\n"
          ]
        }
      ]
    },
    {
      "cell_type": "code",
      "source": [
        "# Standardize the features\n",
        "scaler = StandardScaler()\n",
        "X_train = scaler.fit_transform(X_train)\n",
        "X_test = scaler.transform(X_test)\n",
        "\n",
        "# Show a preview of the scaled data\n",
        "print(\"First 5 rows of the scaled training data:\")\n",
        "print(pd.DataFrame(X_train, columns=data['feature_names']).head())"
      ],
      "metadata": {
        "colab": {
          "base_uri": "https://localhost:8080/"
        },
        "id": "CtrSe0Dkthxo",
        "outputId": "cfc72a36-31da-4a1c-956f-d2f910d5c66d"
      },
      "execution_count": 11,
      "outputs": [
        {
          "output_type": "stream",
          "name": "stdout",
          "text": [
            "First 5 rows of the scaled training data:\n",
            "   sepal length (cm)  sepal width (cm)  petal length (cm)  petal width (cm)\n",
            "0          -0.413416         -1.462003          -0.099511         -0.323398\n",
            "1           0.551222         -0.502563           0.717703          0.353032\n",
            "2           0.671802          0.217016           0.951192          0.758890\n",
            "3           0.912961         -0.022844           0.309096          0.217746\n",
            "4           1.636440          1.416315           1.301427          1.705891\n"
          ]
        }
      ]
    },
    {
      "cell_type": "code",
      "source": [
        "# Model Building\n",
        "from sklearn.linear_model import LogisticRegression\n",
        "log_reg = LogisticRegression()\n",
        "log_reg.fit(X_train, y_train)\n",
        "\n",
        "# Display training completion\n",
        "print(\"Logistic Regression model trained successfully.\")\n",
        "\n",
        "# KNN\n",
        "from sklearn.neighbors import KNeighborsClassifier\n",
        "knn = KNeighborsClassifier(n_neighbors=10)\n",
        "knn.fit(X_train, y_train)\n",
        "\n",
        "# Display training completion\n",
        "print(\"KNN model trained successfully.\")\n",
        "\n",
        "# Logistic Regression Prediction\n",
        "y_pred_log = log_reg.predict(X_test)\n",
        "print(\"Logistic Regression Predictions:\")\n",
        "print(y_pred_log[:10])  # Show first 10 predictions\n",
        "\n",
        "# KNN Prediction\n",
        "y_pred_knn = knn.predict(X_test)\n",
        "print(\"KNN Predictions:\")\n",
        "print(y_pred_knn[:10])  # Show first 10 predictions"
      ],
      "metadata": {
        "colab": {
          "base_uri": "https://localhost:8080/"
        },
        "id": "N7FKDHd4ts0c",
        "outputId": "29c7eb0c-15a8-47ae-bc03-9bf0003fcca7"
      },
      "execution_count": 15,
      "outputs": [
        {
          "output_type": "stream",
          "name": "stdout",
          "text": [
            "Logistic Regression model trained successfully.\n",
            "KNN model trained successfully.\n",
            "Logistic Regression Predictions:\n",
            "[1 0 2 1 1 0 1 2 1 1]\n",
            "KNN Predictions:\n",
            "[1 0 2 1 1 0 1 2 1 1]\n"
          ]
        }
      ]
    },
    {
      "cell_type": "code",
      "source": [
        "# Performance Analysis -  Logistic Regression\n",
        "\n",
        "# Accuracy\n",
        "accuracy_log = accuracy_score(y_test, y_pred_log)\n",
        "print(f\"Logistic Regression Accuracy: {accuracy_log}\")\n",
        "\n",
        "# Confusion Matrix\n",
        "cm_log = confusion_matrix(y_test, y_pred_log)\n",
        "print(\"Confusion Matrix (Logistic Regression):\")\n",
        "print(cm_log)\n",
        "\n",
        "# Visualize Confusion Matrix\n",
        "sns.heatmap(cm_log, annot=True)\n",
        "plt.title('Logistic Regression Confusion Matrix')\n",
        "plt.show()\n",
        "\n",
        "# Classification Report\n",
        "print(\"Classification Report (Logistic Regression):\")\n",
        "print(classification_report(y_test, y_pred_log))\n",
        "\n",
        "# Performance Analysis -  KNN\n",
        "\n",
        "# Accuracy\n",
        "accuracy_knn = accuracy_score(y_test, y_pred_knn)\n",
        "print(f\"KNN Accuracy: {accuracy_knn}\")\n",
        "\n",
        "# Confusion Matrix\n",
        "cm_knn = confusion_matrix(y_test, y_pred_knn)\n",
        "print(\"Confusion Matrix (KNN):\")\n",
        "print(cm_knn)\n",
        "\n",
        "# Visualize Confusion Matrix\n",
        "sns.heatmap(cm_knn, annot=True, fmt='d')\n",
        "plt.title('KNN Confusion Matrix')\n",
        "plt.show()\n",
        "\n",
        "# Classification Report\n",
        "print(\"Classification Report (KNN):\")\n",
        "print(classification_report(y_test, y_pred_knn))"
      ],
      "metadata": {
        "colab": {
          "base_uri": "https://localhost:8080/",
          "height": 1000
        },
        "id": "IMOFEaVDvNuT",
        "outputId": "78da6f41-501b-4acb-ad4f-64eb5e58a0a1"
      },
      "execution_count": 16,
      "outputs": [
        {
          "output_type": "stream",
          "name": "stdout",
          "text": [
            "Logistic Regression Accuracy: 1.0\n",
            "Confusion Matrix (Logistic Regression):\n",
            "[[19  0  0]\n",
            " [ 0 13  0]\n",
            " [ 0  0 13]]\n"
          ]
        },
        {
          "output_type": "display_data",
          "data": {
            "text/plain": [
              "<Figure size 640x480 with 2 Axes>"
            ],
            "image/png": "[encoded data removed]"
          },
          "metadata": {}
        },
        {
          "output_type": "stream",
          "name": "stdout",
          "text": [
            "Classification Report (Logistic Regression):\n",
            "              precision    recall  f1-score   support\n",
            "\n",
            "           0       1.00      1.00      1.00        19\n",
            "           1       1.00      1.00      1.00        13\n",
            "           2       1.00      1.00      1.00        13\n",
            "\n",
            "    accuracy                           1.00        45\n",
            "   macro avg       1.00      1.00      1.00        45\n",
            "weighted avg       1.00      1.00      1.00        45\n",
            "\n",
            "KNN Accuracy: 1.0\n",
            "Confusion Matrix (KNN):\n",
            "[[19  0  0]\n",
            " [ 0 13  0]\n",
            " [ 0  0 13]]\n"
          ]
        },
        {
          "output_type": "display_data",
          "data": {
            "text/plain": [
              "<Figure size 640x480 with 2 Axes>"
            ],
            "image/png": "[encoded data removed]"
          },
          "metadata": {}
        },
        {
          "output_type": "stream",
          "name": "stdout",
          "text": [
            "Classification Report (KNN):\n",
            "              precision    recall  f1-score   support\n",
            "\n",
            "           0       1.00      1.00      1.00        19\n",
            "           1       1.00      1.00      1.00        13\n",
            "           2       1.00      1.00      1.00        13\n",
            "\n",
            "    accuracy                           1.00        45\n",
            "   macro avg       1.00      1.00      1.00        45\n",
            "weighted avg       1.00      1.00      1.00        45\n",
            "\n"
          ]
        }
      ]
    },
    {
      "cell_type": "code",
      "source": [
        "# Comparing and Training Multiple Classifiers\n",
        "\n",
        "# Decision Tree\n",
        "from sklearn.tree import DecisionTreeClassifier\n",
        "dt = DecisionTreeClassifier()\n",
        "dt.fit(X_train, y_train)\n",
        "\n",
        "y_pred_dt = dt.predict(X_test)\n",
        "print(\"Decision Tree Predictions:\")\n",
        "print(y_pred_dt[:10])\n",
        "\n",
        "# Random Forest\n",
        "from sklearn.ensemble import RandomForestClassifier\n",
        "rf = RandomForestClassifier() # Pass parameters\n",
        "rf.fit(X_train, y_train)\n",
        "\n",
        "y_pred_rf = rf.predict(X_test)\n",
        "print(\"Random Forest Predictions:\")\n",
        "print(y_pred_rf[:10])"
      ],
      "metadata": {
        "colab": {
          "base_uri": "https://localhost:8080/"
        },
        "id": "9w_8Zuc3vlAf",
        "outputId": "fde94102-bf6a-4b86-f2ce-1e7276605b29"
      },
      "execution_count": null,
      "outputs": [
        {
          "output_type": "stream",
          "name": "stdout",
          "text": [
            "Decision Tree Predictions:\n",
            "[1 0 2 1 1 0 1 2 1 1]\n",
            "Random Forest Predictions:\n",
            "[1 0 2 1 1 0 1 2 1 1]\n"
          ]
        }
      ]
    },
    {
      "cell_type": "code",
      "source": [
        "# Collect accuracy scores\n",
        "classifiers = ['Logistic Regression', 'KNN', 'Decision Tree', 'Random Forest']\n",
        "accuracies = [\n",
        "    accuracy_log,\n",
        "    accuracy_knn,\n",
        "    accuracy_score(y_test, y_pred_dt),\n",
        "    accuracy_score(y_test, y_pred_rf)\n",
        "]\n",
        "\n",
        "# Plot the comparison\n",
        "plt.bar(classifiers, accuracies)\n",
        "plt.ylabel('Accuracy')\n",
        "plt.title('Classifier Accuracy Comparison')\n",
        "plt.show()\n",
        "\n",
        "# Parameter Tuning\n",
        "# Grid Search"
      ],
      "metadata": {
        "colab": {
          "base_uri": "https://localhost:8080/",
          "height": 452
        },
        "id": "QlxiDbmzv9Oq",
        "outputId": "76aba12c-97b3-416f-f364-c1af21d1ea16"
      },
      "execution_count": null,
      "outputs": [
        {
          "output_type": "display_data",
          "data": {
            "text/plain": [
              "<Figure size 640x480 with 1 Axes>"
            ],
            "image/png": "[encoded data removed]"
          },
          "metadata": {}
        }
      ]
    }
  ]
}